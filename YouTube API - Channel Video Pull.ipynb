{
 "cells": [
  {
   "cell_type": "code",
   "execution_count": 1,
   "metadata": {},
   "outputs": [],
   "source": [
    "###\n",
    "### Pull data via the YouTube Data API v3 on a single channel\n",
    "### Utilize the Requests library to pull JSON response from API\n",
    "### Load desired results to a Pandas DataFrame for analysis, loading to SQL, etc\n",
    "###\n",
    "\n",
    "# import libraries\n",
    "import pandas as pd\n",
    "import requests\n",
    "import time\n",
    "import keyring\n",
    "\n",
    "# Keys\n",
    "API_KEY = keyring.get_password('YouTube_API','API_KEY')\n",
    "CHANNEL_ID = 'UCjOuL9q-0UIh21wfLJ21h-Q' #channel ID for Sonio"
   ]
  },
  {
   "cell_type": "code",
   "execution_count": 2,
   "metadata": {},
   "outputs": [],
   "source": [
    "#api call for specific video statistics\n",
    "def get_video_details(video_id):\n",
    "    url_video_stats = 'https://www.googleapis.com/youtube/v3/videos?id='+video_id+'&part=contentDetails,statistics&key='+API_KEY\n",
    "    response_video_stats = requests.get(url_video_stats).json()\n",
    "\n",
    "    video_duration = response_video_stats['items'][0]['contentDetails']['duration']\n",
    "    video_duration = str(video_duration).split('PT')[1]\n",
    "    view_count = response_video_stats['items'][0]['statistics']['viewCount']\n",
    "    like_count = response_video_stats['items'][0]['statistics']['likeCount']\n",
    "    #dislike_count = response_video_stats['items'][0]['statistics']['dislikeCount'] #dislike count was made private as of 2021-12-31\n",
    "    comment_count = response_video_stats['items'][0]['statistics']['commentCount']\n",
    "\n",
    "    return video_duration, view_count, like_count, comment_count"
   ]
  },
  {
   "cell_type": "code",
   "execution_count": 3,
   "metadata": {},
   "outputs": [],
   "source": [
    "def get_videos(df):\n",
    "    url = 'https://www.googleapis.com/youtube/v3/search?key='+API_KEY+'&channelId='+CHANNEL_ID+'&part=snippet,id&order=date&maxResults=10000'\n",
    "    response = requests.get(url).json()\n",
    "    time.sleep(3) #allow time for response\n",
    "\n",
    "    for video in response['items']:\n",
    "        if video['id']['kind'] == 'youtube#video':\n",
    "            channel_name = video['snippet']['channelTitle']\n",
    "            video_id = video['id']['videoId']\n",
    "            video_title = video['snippet']['title']\n",
    "            video_title = str(video_title).replace('&amp;','')\n",
    "            upload_date = video['snippet']['publishedAt']\n",
    "            upload_date = str(upload_date).split('T')[0]\n",
    "\n",
    "            video_duration, view_count, like_count, comment_count = get_video_details(video_id)\n",
    "\n",
    "            # append video data as records in pandas df\n",
    "            video_df = pd.DataFrame.from_dict({\n",
    "                'channel_name':[channel_name],\n",
    "                'upload_date':[upload_date],\n",
    "                'video_duration':[video_duration],\n",
    "                'video_id':[video_id],\n",
    "                'video_title':[video_title],\n",
    "                'view_count':[view_count],\n",
    "                'like_count':[like_count],\n",
    "                'comment_count':[comment_count]\n",
    "            })\n",
    "\n",
    "            df = pd.concat([df,video_df], ignore_index=True)\n",
    "    return df\n"
   ]
  },
  {
   "cell_type": "code",
   "execution_count": null,
   "metadata": {},
   "outputs": [],
   "source": [
    "#initialize dataframe\n",
    "df = pd.DataFrame(columns=['channel_name','upload_date','video_duration','video_id','video_title','view_count','like_count','comment_count'])\n",
    "\n",
    "df = get_videos(df)"
   ]
  }
 ],
 "metadata": {
  "interpreter": {
   "hash": "f95b413ba87a1d68aefdd4931aa75b04f787e92859c1b859faa70aaab7165afe"
  },
  "kernelspec": {
   "display_name": "Python 3.10.2 64-bit",
   "language": "python",
   "name": "python3"
  },
  "language_info": {
   "codemirror_mode": {
    "name": "ipython",
    "version": 3
   },
   "file_extension": ".py",
   "mimetype": "text/x-python",
   "name": "python",
   "nbconvert_exporter": "python",
   "pygments_lexer": "ipython3",
   "version": "3.10.2"
  },
  "orig_nbformat": 4
 },
 "nbformat": 4,
 "nbformat_minor": 2
}
